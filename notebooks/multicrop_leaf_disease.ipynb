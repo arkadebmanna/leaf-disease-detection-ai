{
  "nbformat": 4,
  "nbformat_minor": 5,
  "metadata": {},
  "cells": [
    {
      "cell_type": "markdown",
      "id": "intro",
      "metadata": {},
      "source": [
        "# Multi-Crop Leaf Disease Detection\n",
        "This notebook handles **data preprocessing, model training, and evaluation** using MobileNetV2."
      ]
    },
    {
      "cell_type": "code",
      "execution_count": null,
      "id": "imports",
      "metadata": {},
      "outputs": [],
      "source": [
        "import os\n",
        "import numpy as np\n",
        "import pandas as pd\n",
        "import matplotlib.pyplot as plt\n",
        "import seaborn as sns\n",
        "from tensorflow.keras.preprocessing.image import ImageDataGenerator\n",
        "from tensorflow.keras.applications import MobileNetV2\n",
        "from tensorflow.keras.models import Model\n",
        "from tensorflow.keras.layers import Dense, GlobalAveragePooling2D\n",
        "from tensorflow.keras.optimizers import Adam\n",
        "from sklearn.metrics import classification_report, confusion_matrix"
      ]
    },
    {
      "cell_type": "markdown",
      "id": "load-data",
      "metadata": {},
      "source": [
        "## 🔍 Load PlantVillage Metadata"
      ]
    },
    {
      "cell_type": "code",
      "execution_count": null,
      "id": "load-metadata",
      "metadata": {},
      "outputs": [],
      "source": [
        "data_path = '../data/PlantVillage_metadata.csv'\n",
        "df = pd.read_csv(data_path)\n",
        "df.head()"
      ]
    },
    {
      "cell_type": "markdown",
      "id": "data-preprocessing",
      "metadata": {},
      "source": [
        "## 🧪 Image Preprocessing using ImageDataGenerator"
      ]
    },
    {
      "cell_type": "code",
      "execution_count": null,
      "id": "image-preprocessing",
      "metadata": {},
      "outputs": [],
      "source": [
        "datagen = ImageDataGenerator(rescale=1./255, validation_split=0.1)\n",
        "\n",
        "train_generator = datagen.flow_from_dataframe(\n",
        "    dataframe=df,\n",
        "    directory='../data/sample_images',\n",
        "    x_col='filename',\n",
        "    y_col='label',\n",
        "    subset='training',\n",
        "    batch_size=4,\n",
        "    seed=42,\n",
        "    shuffle=True,\n",
        "    class_mode='categorical',\n",
        "    target_size=(224, 224))\n",
        "\n",
        "val_generator = datagen.flow_from_dataframe(\n",
        "    dataframe=df,\n",
        "    directory='../data/sample_images',\n",
        "    x_col='filename',\n",
        "    y_col='label',\n",
        "    subset='validation',\n",
        "    batch_size=4,\n",
        "    seed=42,\n",
        "    shuffle=True,\n",
        "    class_mode='categorical',\n",
        "    target_size=(224, 224))"
      ]
    },
    {
      "cell_type": "markdown",
      "id": "model-training",
      "metadata": {},
      "source": [
        "## 🤖 Build & Train MobileNetV2 Model"
      ]
    },
    {
      "cell_type": "code",
      "execution_count": null,
      "id": "train-model",
      "metadata": {},
      "outputs": [],
      "source": [
        "base_model = MobileNetV2(weights='imagenet', include_top=False, input_shape=(224, 224, 3))\n",
        "x = base_model.output\n",
        "x = GlobalAveragePooling2D()(x)\n",
        "x = Dense(64, activation='relu')(x)\n",
        "predictions = Dense(len(train_generator.class_indices), activation='softmax')(x)\n",
        "\n",
        "model = Model(inputs=base_model.input, outputs=predictions)\n",
        "\n",
        "for layer in base_model.layers:\n",
        "    layer.trainable = False\n",
        "\n",
        "model.compile(optimizer=Adam(), loss='categorical_crossentropy', metrics=['accuracy'])\n",
        "model.summary()\n",
        "\n",
        "history = model.fit(train_generator, validation_data=val_generator, epochs=3)"
      ]
    },
    {
      "cell_type": "markdown",
      "id": "model-evaluation",
      "metadata": {},
      "source": [
        "## 📊 Model Evaluation & Training History"
      ]
    },
    {
      "cell_type": "code",
      "execution_count": null,
      "id": "evaluation-metrics",
      "metadata": {},
      "outputs": [],
      "source": [
        "os.makedirs('../model', exist_ok=True)\n",
        "os.makedirs('../screenshots', exist_ok=True)\n",
        "model.save('../model/leaf_model.keras')\n",
        "\n",
        "print(history.history.keys())\n",
        "\n",
        "plt.figure(figsize=(10, 5))\n",
        "plt.plot(history.history['accuracy'], label='Train Accuracy')\n",
        "plt.plot(history.history['val_accuracy'], label='Validation Accuracy')\n",
        "plt.legend()\n",
        "plt.title('Model Accuracy')\n",
        "plt.savefig('../screenshots/accuracy_loss_curve.png')\n",
        "plt.show()"
      ]
    },
    {
      "cell_type": "markdown",
      "id": "confusion-matrix",
      "metadata": {},
      "source": [
        "## 🔁 Confusion Matrix for Validation Set"
      ]
    },
    {
      "cell_type": "code",
      "execution_count": null,
      "id": "confusion-matrix-code",
      "metadata": {},
      "outputs": [],
      "source": [
        "y_true = val_generator.classes\n",
        "y_pred = model.predict(val_generator)\n",
        "y_pred_classes = np.argmax(y_pred, axis=1)\n",
        "\n",
        "cm = confusion_matrix(y_true, y_pred_classes)\n",
        "\n",
        "plt.figure(figsize=(8, 6))\n",
        "sns.heatmap(cm, annot=True, fmt='d', cmap='Blues', \n",
        "            xticklabels=val_generator.class_indices.keys(), \n",
        "            yticklabels=val_generator.class_indices.keys())\n",
        "plt.xlabel('Predicted')\n",
        "plt.ylabel('Actual')\n",
        "plt.title('Confusion Matrix')\n",
        "plt.savefig('../screenshots/confusion_matrix.png')\n",
        "plt.show()"
      ]
    }
  ]
}
